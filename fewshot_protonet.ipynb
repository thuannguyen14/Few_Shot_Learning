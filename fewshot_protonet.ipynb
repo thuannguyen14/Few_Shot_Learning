{
  "nbformat": 4,
  "nbformat_minor": 0,
  "metadata": {
    "colab": {
      "provenance": [],
      "gpuType": "T4"
    },
    "kernelspec": {
      "name": "python3",
      "display_name": "Python 3"
    },
    "language_info": {
      "name": "python"
    },
    "accelerator": "GPU"
  },
  "cells": [
    {
      "cell_type": "code",
      "execution_count": null,
      "metadata": {
        "id": "FDqiZGuJgGEb"
      },
      "outputs": [],
      "source": [
        "import torch\n",
        "import torch.nn as nn\n",
        "import torchvision\n",
        "import torchvision.transforms as T\n",
        "import matplotlib.pyplot as plt\n",
        "import numpy as np\n",
        "import random\n",
        "from collections import defaultdict\n",
        "from sklearn.metrics import confusion_matrix, ConfusionMatrixDisplay"
      ]
    },
    {
      "cell_type": "code",
      "source": [
        "transform = T.Compose([\n",
        "    T.Resize((28, 28)),\n",
        "    T.ToTensor()\n",
        "])\n",
        "\n",
        "omniglot_train = torchvision.datasets.Omniglot(\n",
        "    root='./data', background=True, download=True, transform=transform\n",
        ")\n",
        "\n",
        "\n",
        "data_by_class = defaultdict(list)\n",
        "for img, label in omniglot_train:\n",
        "    data_by_class[label].append(img)\n"
      ],
      "metadata": {
        "id": "omQ7DieUit-H"
      },
      "execution_count": null,
      "outputs": []
    },
    {
      "cell_type": "code",
      "source": [
        "def create_episode(n_way=5, k_shot=1, q_query=5):\n",
        "    selected_classes = random.sample(list(data_by_class.keys()), n_way)\n",
        "    support, query = [], []\n",
        "    for i, cls in enumerate(selected_classes):\n",
        "        samples = random.sample(data_by_class[cls], k_shot + q_query)\n",
        "        support += [(img, i) for img in samples[:k_shot]]\n",
        "        query += [(img, i) for img in samples[k_shot:]]\n",
        "    return support, query"
      ],
      "metadata": {
        "id": "2wmqlmdllujC"
      },
      "execution_count": null,
      "outputs": []
    },
    {
      "cell_type": "code",
      "source": [
        "#print(data_by_class)"
      ],
      "metadata": {
        "id": "0U6VwWyuiuA1"
      },
      "execution_count": null,
      "outputs": []
    },
    {
      "cell_type": "code",
      "source": [
        "class ProtoNet(nn.Module):\n",
        "    def __init__(self):\n",
        "        super().__init__()\n",
        "        self.encoder = nn.Sequential(\n",
        "            nn.Conv2d(1, 64, 3, padding=1), nn.ReLU(),\n",
        "            nn.MaxPool2d(2),\n",
        "            nn.Conv2d(64, 64, 3, padding=1), nn.ReLU(),\n",
        "            nn.MaxPool2d(2),\n",
        "        )\n",
        "\n",
        "    def forward(self, x):\n",
        "        return self.encoder(x).view(x.size(0), -1)\n"
      ],
      "metadata": {
        "id": "8mGyghn1iuDn"
      },
      "execution_count": null,
      "outputs": []
    },
    {
      "cell_type": "code",
      "source": [
        "def prototypical_loss(model, support, query, n_way, k_shot):\n",
        "    support_x, support_y = zip(*support)\n",
        "    query_x, query_y = zip(*query)\n",
        "\n",
        "    support_x = torch.stack(support_x).to(device)\n",
        "    query_x = torch.stack(query_x).to(device)\n",
        "    support_y = torch.tensor(support_y).to(device)\n",
        "    query_y = torch.tensor(query_y).to(device)\n",
        "\n",
        "    emb_support = model(support_x)\n",
        "    emb_query = model(query_x)\n",
        "\n",
        "    # Tính prototype mỗi class\n",
        "    prototypes = []\n",
        "    for i in range(n_way):\n",
        "        prototypes.append(emb_support[support_y == i].mean(0))\n",
        "    prototypes = torch.stack(prototypes)\n",
        "\n",
        "    # Khoảng cách Euclidean và loss\n",
        "    dists = torch.cdist(emb_query, prototypes)\n",
        "    preds = (-dists).softmax(dim=1)\n",
        "\n",
        "    loss = nn.CrossEntropyLoss()(preds, query_y)\n",
        "    acc = (preds.argmax(dim=1) == query_y).float().mean()\n",
        "\n",
        "    return loss, acc.item(), preds.argmax(dim=1).cpu(), query_y.cpu()\n"
      ],
      "metadata": {
        "id": "4gfS2cm6iuGP"
      },
      "execution_count": null,
      "outputs": []
    },
    {
      "cell_type": "code",
      "source": [
        "device = torch.device(\"cuda\" if torch.cuda.is_available() else \"cpu\")\n",
        "model = ProtoNet().to(device)\n",
        "optimizer = torch.optim.Adam(model.parameters(), lr=1e-3)\n",
        "\n",
        "train_accs = []\n",
        "for episode in range(5000):\n",
        "    support, query = create_episode(n_way=5, k_shot=1, q_query=5)\n",
        "    loss, acc, _, _ = prototypical_loss(model, support, query, n_way=5, k_shot=1)\n",
        "\n",
        "    optimizer.zero_grad()\n",
        "    loss.backward()\n",
        "    optimizer.step()\n",
        "\n",
        "    train_accs.append(acc)\n",
        "    if episode % 100 == 0:\n",
        "        print(f\"[Episode {episode}] Loss: {loss.item():.4f}, Acc: {acc:.4f}\")\n"
      ],
      "metadata": {
        "id": "wWW3K102iuJX",
        "colab": {
          "base_uri": "https://localhost:8080/"
        },
        "outputId": "1c7df9ea-2716-436c-d6ae-034163068676"
      },
      "execution_count": null,
      "outputs": [
        {
          "output_type": "stream",
          "name": "stdout",
          "text": [
            "[Episode 0] Loss: 1.5754, Acc: 0.4000\n",
            "[Episode 100] Loss: 1.1488, Acc: 0.7600\n",
            "[Episode 200] Loss: 1.2483, Acc: 0.6400\n",
            "[Episode 300] Loss: 1.2293, Acc: 0.7200\n",
            "[Episode 400] Loss: 1.0046, Acc: 0.9200\n",
            "[Episode 500] Loss: 1.1285, Acc: 0.7600\n",
            "[Episode 600] Loss: 0.9551, Acc: 0.9600\n",
            "[Episode 700] Loss: 1.0643, Acc: 0.8400\n",
            "[Episode 800] Loss: 1.2499, Acc: 0.6800\n",
            "[Episode 900] Loss: 1.2419, Acc: 0.6400\n",
            "[Episode 1000] Loss: 1.1020, Acc: 0.8000\n",
            "[Episode 1100] Loss: 0.9548, Acc: 0.9600\n",
            "[Episode 1200] Loss: 0.9853, Acc: 0.9600\n",
            "[Episode 1300] Loss: 1.1952, Acc: 0.6800\n",
            "[Episode 1400] Loss: 1.2565, Acc: 0.6400\n",
            "[Episode 1500] Loss: 0.9731, Acc: 0.9600\n",
            "[Episode 1600] Loss: 0.9729, Acc: 0.9200\n",
            "[Episode 1700] Loss: 1.2338, Acc: 0.6400\n",
            "[Episode 1800] Loss: 0.9196, Acc: 1.0000\n",
            "[Episode 1900] Loss: 1.0974, Acc: 0.8000\n",
            "[Episode 2000] Loss: 0.9334, Acc: 1.0000\n",
            "[Episode 2100] Loss: 1.0201, Acc: 0.8800\n",
            "[Episode 2200] Loss: 1.1264, Acc: 0.8000\n",
            "[Episode 2300] Loss: 0.9776, Acc: 0.9600\n",
            "[Episode 2400] Loss: 0.9790, Acc: 0.9200\n",
            "[Episode 2500] Loss: 1.0640, Acc: 0.8400\n",
            "[Episode 2600] Loss: 0.9387, Acc: 0.9600\n",
            "[Episode 2700] Loss: 0.9530, Acc: 0.9600\n",
            "[Episode 2800] Loss: 1.0299, Acc: 0.8400\n",
            "[Episode 2900] Loss: 1.1908, Acc: 0.7200\n",
            "[Episode 3000] Loss: 1.1682, Acc: 0.7200\n",
            "[Episode 3100] Loss: 1.0771, Acc: 0.8000\n",
            "[Episode 3200] Loss: 0.9568, Acc: 0.9600\n",
            "[Episode 3300] Loss: 1.3004, Acc: 0.6400\n",
            "[Episode 3400] Loss: 1.0720, Acc: 0.8400\n",
            "[Episode 3500] Loss: 1.0541, Acc: 0.8400\n",
            "[Episode 3600] Loss: 1.0624, Acc: 0.8400\n",
            "[Episode 3700] Loss: 0.9491, Acc: 0.9600\n",
            "[Episode 3800] Loss: 1.2825, Acc: 0.6000\n",
            "[Episode 3900] Loss: 0.9945, Acc: 0.9200\n",
            "[Episode 4000] Loss: 1.0150, Acc: 0.8800\n",
            "[Episode 4100] Loss: 0.9531, Acc: 0.9600\n",
            "[Episode 4200] Loss: 1.0263, Acc: 0.8800\n",
            "[Episode 4300] Loss: 0.9764, Acc: 0.9200\n",
            "[Episode 4400] Loss: 1.0542, Acc: 0.8800\n",
            "[Episode 4500] Loss: 1.1404, Acc: 0.8000\n",
            "[Episode 4600] Loss: 1.0613, Acc: 0.8400\n",
            "[Episode 4700] Loss: 0.9574, Acc: 0.9600\n",
            "[Episode 4800] Loss: 0.9947, Acc: 0.9200\n",
            "[Episode 4900] Loss: 1.1318, Acc: 0.7200\n"
          ]
        }
      ]
    },
    {
      "cell_type": "code",
      "source": [
        "model.eval()\n",
        "all_preds, all_labels = [], []\n",
        "test_accs = []\n",
        "\n",
        "for _ in range(100):\n",
        "    support, query = create_episode(n_way=5, k_shot=1, q_query=5)\n",
        "    _, acc, preds, labels = prototypical_loss(model, support, query, n_way=5, k_shot=1)\n",
        "    test_accs.append(acc)\n",
        "    all_preds += preds.tolist()\n",
        "    all_labels += labels.tolist()\n",
        "\n",
        "print(f\"Test Accuracy: {np.mean(test_accs)*100:.2f}%\")\n",
        "\n",
        "# Confusion Matrix\n",
        "cm = confusion_matrix(all_labels, all_preds)\n",
        "disp = ConfusionMatrixDisplay(confusion_matrix=cm, display_labels=[f\"Class {i}\" for i in range(5)])\n",
        "disp.plot(cmap=plt.cm.Blues)\n",
        "plt.title(\"Confusion Matrix (5-way 1-shot)\")\n",
        "plt.show()\n"
      ],
      "metadata": {
        "id": "ZGm_l63miuLm",
        "colab": {
          "base_uri": "https://localhost:8080/",
          "height": 489
        },
        "outputId": "ae7487f3-7465-4286-d8c0-dc9534583a13"
      },
      "execution_count": null,
      "outputs": [
        {
          "output_type": "stream",
          "name": "stdout",
          "text": [
            "Test Accuracy: 86.92%\n"
          ]
        },
        {
          "output_type": "display_data",
          "data": {
            "text/plain": [
              "<Figure size 640x480 with 2 Axes>"
            ],
            "image/png": "[encoded data removed]"
          },
          "metadata": {}
        }
      ]
    },
    {
      "cell_type": "code",
      "source": [],
      "metadata": {
        "id": "2LHrvSPliuOt"
      },
      "execution_count": null,
      "outputs": []
    },
    {
      "cell_type": "code",
      "source": [],
      "metadata": {
        "id": "Hj6JRp7KiuRX"
      },
      "execution_count": null,
      "outputs": []
    },
    {
      "cell_type": "code",
      "source": [],
      "metadata": {
        "id": "EkJylSdyiuUP"
      },
      "execution_count": null,
      "outputs": []
    },
    {
      "cell_type": "code",
      "source": [],
      "metadata": {
        "id": "dCamVDjziuXO"
      },
      "execution_count": null,
      "outputs": []
    }
  ]
}